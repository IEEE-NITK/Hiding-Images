{
 "cells": [
  {
   "cell_type": "code",
   "execution_count": 33,
   "metadata": {},
   "outputs": [],
   "source": [
    "import cv2\n",
    "import numpy as np"
   ]
  },
  {
   "cell_type": "code",
   "execution_count": 34,
   "metadata": {},
   "outputs": [],
   "source": [
    "def str_binary(string):\n",
    "    bit_str= ''.join(format(ord(ch), '08b') for ch in string) # ord(ch) is to convert to ASCII value \n",
    "    return bit_str\n",
    "\n",
    "def int_to_binary(int):\n",
    "    return format(int,'08b')\n",
    "\n",
    "def binary_to_int(bin_string):\n",
    "    return int(bin_string,2)"
   ]
  },
  {
   "cell_type": "code",
   "execution_count": 35,
   "metadata": {},
   "outputs": [],
   "source": [
    "def encode():\n",
    "    \n",
    "    image_name = input(\"Enter the name of the image to be encoded: \")\n",
    "    image = cv2.imread(image_name)\n",
    "    msg = input(\"Enter the message to encrypted: \")\n",
    "    msg += \"G@A@R@V\"\n",
    "    binary_message = str_binary(msg)\n",
    "    msg_len = len(binary_message)\n",
    "    c = 0\n",
    "    encoded_image = image.copy()\n",
    "    rows,columns,slided = image.shape\n",
    "    \n",
    "    for row in range(rows):\n",
    "        for column in range(columns):\n",
    "            for k in [0,1,2]:\n",
    "                if c < msg_len:\n",
    "                    \n",
    "                    binary_pixel = int_to_binary(encoded_image[row,column,k])\n",
    "                    binary_new_pixel = binary_pixel[:-1] + binary_message[c]\n",
    "                    encoded_image[row,column,k] = binary_to_int(binary_new_pixel)\n",
    "                    c += 1\n",
    "                \n",
    "    enocoded_image_name = input(\"Enter a name to be given to encoded image: \")\n",
    "    status = cv2.imwrite(enocoded_image_name,encoded_image)\n",
    "    print(\"Image written to file-system : \",status)\n",
    "    print(\"Encoded image is saved with the name\", enocoded_image_name)"
   ]
  },
  {
   "cell_type": "code",
   "execution_count": 36,
   "metadata": {},
   "outputs": [],
   "source": [
    "def decode():\n",
    "    \n",
    "    d_image_name = input(\"Enter the name of the image to be decoded: \")\n",
    "    d_image = cv2.imread(d_image_name)\n",
    "    \n",
    "    d_msg = ''\n",
    "    c = 0\n",
    "    rows,columns,slides = d_image.shape\n",
    "    \n",
    "    for row in range(rows):\n",
    "        for column in range(columns):\n",
    "            for k in [0,1,2]:\n",
    "                \n",
    "                lsb = int_to_binary(d_image[row,column,k])[-1]\n",
    "                d_msg += lsb\n",
    "                if c%8==7 :\n",
    "                    d_msg += ' '\n",
    "                c += 1\n",
    "                \n",
    "    d_msg_1 = d_msg.split()\n",
    "\n",
    "    final_d_msg=''\n",
    "    for i in range(len(d_msg_1)):\n",
    "        final_d_msg += chr(int(d_msg_1[i],2))\n",
    "        if final_d_msg[-7:] == \"G@A@R@V\" :\n",
    "            return (final_d_msg[:-7])\n",
    "        \n",
    "    return(final_d_msg)"
   ]
  },
  {
   "cell_type": "code",
   "execution_count": 2,
   "metadata": {
    "scrolled": false
   },
   "outputs": [
    {
     "name": "stdout",
     "output_type": "stream",
     "text": [
      "What do you wish to do:\n",
      "    1. Encode an image\n",
      "    2. Decode an image\n",
      "Enter your choice: 5\n",
      "Please enter valid option\n"
     ]
    }
   ],
   "source": [
    "print(\"What do you wish to do:\")\n",
    "print(\"    1. Encode an image\")\n",
    "print(\"    2. Decode an image\")\n",
    "choice = input(\"Enter your choice: \")\n",
    "\n",
    "if (choice == '1'):\n",
    "    encode()\n",
    " \n",
    "elif (choice=='2'):\n",
    "    decoded_message_output = decode()\n",
    "    print(\"The decoded message is: \", decoded_message_output)\n",
    "    \n",
    "else:\n",
    "    print(\"Please enter valid option\")"
   ]
  },
  {
   "cell_type": "code",
   "execution_count": null,
   "metadata": {},
   "outputs": [],
   "source": []
  }
 ],
 "metadata": {
  "kernelspec": {
   "display_name": "Python 3",
   "language": "python",
   "name": "python3"
  },
  "language_info": {
   "codemirror_mode": {
    "name": "ipython",
    "version": 3
   },
   "file_extension": ".py",
   "mimetype": "text/x-python",
   "name": "python",
   "nbconvert_exporter": "python",
   "pygments_lexer": "ipython3",
   "version": "3.8.3"
  }
 },
 "nbformat": 4,
 "nbformat_minor": 4
}
