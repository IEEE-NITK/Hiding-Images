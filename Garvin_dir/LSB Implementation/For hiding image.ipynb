{
 "cells": [
  {
   "cell_type": "code",
   "execution_count": 28,
   "metadata": {},
   "outputs": [],
   "source": [
    "import cv2\n",
    "import numpy as np\n",
    "import time"
   ]
  },
  {
   "cell_type": "code",
   "execution_count": 29,
   "metadata": {},
   "outputs": [],
   "source": [
    "def str_binary(string):\n",
    "    bit_str= ''.join(format(ord(ch), '08b') for ch in string) # ord(ch) is to convert to ASCII value \n",
    "    return bit_str\n",
    "\n",
    "def int_to_binary(int):\n",
    "    return format(int,'08b')\n",
    "\n",
    "def binary_to_int(bin_string):\n",
    "    return int(bin_string,2)"
   ]
  },
  {
   "cell_type": "code",
   "execution_count": 33,
   "metadata": {},
   "outputs": [],
   "source": [
    "def encode():\n",
    "    \n",
    "    host_name = input(\"Enter the name of the image which is to be encoded: \")\n",
    "    host = cv2.imread(host_name)\n",
    "    hiding_image_name = input(\"Enter the name of image to be hidden: \")\n",
    "    hiding_image = cv2.imread(hiding_image_name)\n",
    "    \n",
    "    rows,columns,layers = host.shape\n",
    "    rows_h,columns_h,layers_h = hiding_image.shape\n",
    "    \n",
    "    host = host.reshape(rows*columns*layers,1)\n",
    "    print(\"New shape of host image is: \",host.shape)\n",
    "    hiding_image = hiding_image.reshape(rows_h*columns_h*layers_h,1)\n",
    "    print(\"New shape of hiding image: \",hiding_image.shape)\n",
    "        \n",
    "    encoded_image = host.copy()\n",
    "    c = 0\n",
    "    \n",
    "    n = rows_h*columns_h*layers_h\n",
    "    start_time = time.time()\n",
    "    for i in range(n):\n",
    "        \n",
    "        k = 0\n",
    "        binary_hiding_pixel = int_to_binary(hiding_image[i,0])\n",
    "        \n",
    "        for k in range(8):\n",
    "            binary_host_pixel = int_to_binary(host[c,0])\n",
    "            binary_new_pixel = binary_host_pixel[:-1] + binary_hiding_pixel[k]\n",
    "            encoded_image[c,0] = binary_to_int(binary_new_pixel)\n",
    "            k += 1\n",
    "            c += 1\n",
    "    print(\"Execution time is: \",time.time()-start_time)      \n",
    "    \n",
    "    encoded_image = encoded_image.reshape(rows,columns,layers)          \n",
    "    enocoded_image_name = input(\"Enter a name to be given to encoded image: \")\n",
    "    status = cv2.imwrite(enocoded_image_name,encoded_image)\n",
    "    print(\"Image written to file-system : \",status)\n",
    "    print(\"Encoded image is saved with the name\", enocoded_image_name)"
   ]
  },
  {
   "cell_type": "code",
   "execution_count": 36,
   "metadata": {},
   "outputs": [],
   "source": [
    "def decode():\n",
    "    \n",
    "    d_image_name = input(\"Enter the name of the image to be decoded: \")\n",
    "    d_image = cv2.imread(d_image_name)\n",
    "    \n",
    "    rows,columns,channels = d_image.shape\n",
    "    d_image = d_image.reshape(rows*columns*channels,1)\n",
    "    \n",
    "    C = int(input(\"Enter the number of columns in the hiding image\"))\n",
    "    R = int((rows*columns)/(C*8))\n",
    "    \n",
    "    hiding_image = np.random.randn(R*C*3,1)\n",
    "    binary_pixel = ''\n",
    "    w = 0\n",
    "    j = 0\n",
    "    start_time = time.time()\n",
    "    for i in range(d_image.shape[0]):\n",
    "        \n",
    "        binary_host_pixel = int_to_binary(d_image[i,0])\n",
    "        binary_pixel += binary_host_pixel[7]\n",
    "        \n",
    "        if (w%8==7):\n",
    "            pixel = binary_to_int(binary_pixel)\n",
    "            binary_pixel = ''\n",
    "            hiding_image[j] = pixel\n",
    "            j += 1\n",
    "        w += 1\n",
    "    print(\"Execution time is: \",time.time()-start_time)\n",
    "    hiding_image = hiding_image.reshape(R,C,3)\n",
    "    hiding_image_name = input(\"Enter the name to be given to recovered image:\")\n",
    "    status = cv2.imwrite(hiding_image_name,hiding_image)\n",
    "    print(\"Image written to file-system : \",status)\n",
    "    print(\"Encoded image is saved with the name\", hiding_image_name)"
   ]
  },
  {
   "cell_type": "code",
   "execution_count": 37,
   "metadata": {
    "scrolled": false
   },
   "outputs": [
    {
     "name": "stdout",
     "output_type": "stream",
     "text": [
      "What do you wish to do:\n",
      "    1. Encode an image\n",
      "    2. Decode an image\n",
      "Enter your choice: 2\n",
      "Enter the name of the image to be decoded: image1_dd.png\n",
      "Enter the number of columns in the hiding image384\n",
      "Execution time is:  10.129891395568848\n",
      "Enter the name to be given to recovered image:mage1_d.png\n",
      "Image written to file-system :  True\n",
      "Encoded image is saved with the name mage1_d.png\n"
     ]
    }
   ],
   "source": [
    "print(\"What do you wish to do:\")\n",
    "print(\"    1. Encode an image\")\n",
    "print(\"    2. Decode an image\")\n",
    "choice = input(\"Enter your choice: \")\n",
    "\n",
    "if (choice == '1'):\n",
    "    encode()\n",
    " \n",
    "elif (choice=='2'):\n",
    "    decode()\n",
    "\n",
    "else:\n",
    "    print(\"Please enter valid option\")"
   ]
  },
  {
   "cell_type": "code",
   "execution_count": 26,
   "metadata": {},
   "outputs": [],
   "source": [
    "import cv2\n",
    "import numpy as np\n",
    "\n",
    "image1 = cv2.imread(\"photo1.jpg\")\n",
    "image2 = cv2.imread(\"image1_dd.png\")\n",
    "image3 = cv2.imread(\"my_photo.png\")\n",
    "image4 = cv2.imread(\"image1_d.png\")"
   ]
  },
  {
   "cell_type": "code",
   "execution_count": 27,
   "metadata": {},
   "outputs": [
    {
     "name": "stdout",
     "output_type": "stream",
     "text": [
      "0\n",
      "251007049\n"
     ]
    }
   ],
   "source": [
    "difference = image1 - image2\n",
    "sum = np.sum(difference)\n",
    "print(sum)\n",
    "difference2 = image3 - image4\n",
    "print(np.sum(difference2))"
   ]
  }
 ],
 "metadata": {
  "kernelspec": {
   "display_name": "Python 3",
   "language": "python",
   "name": "python3"
  },
  "language_info": {
   "codemirror_mode": {
    "name": "ipython",
    "version": 3
   },
   "file_extension": ".py",
   "mimetype": "text/x-python",
   "name": "python",
   "nbconvert_exporter": "python",
   "pygments_lexer": "ipython3",
   "version": "3.8.3"
  }
 },
 "nbformat": 4,
 "nbformat_minor": 4
}
