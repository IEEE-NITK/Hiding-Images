{
 "cells": [
  {
   "cell_type": "code",
   "execution_count": 1,
   "metadata": {},
   "outputs": [],
   "source": [
    "import cv2\n",
    "import numpy as np\n",
    "import matplotlib.pyplot as plt"
   ]
  },
  {
   "cell_type": "code",
   "execution_count": 2,
   "metadata": {},
   "outputs": [],
   "source": [
    "def transform(arr):\n",
    "    arr = arr.reshape(4,1)\n",
    "    tra = np.array([[1,1,1,1],[1,-1,1,-1],[1,1,-1,-1],[1,-1,-1,1]])\n",
    "    arr = 0.5*(np.dot(tra,arr))\n",
    "    return arr.reshape(2,2)"
   ]
  },
  {
   "cell_type": "code",
   "execution_count": 3,
   "metadata": {},
   "outputs": [
    {
     "name": "stdout",
     "output_type": "stream",
     "text": [
      "[[ 5. -1.]\n",
      " [-2.  0.]]\n"
     ]
    }
   ],
   "source": [
    "a = np.array([[1,2],[3,4]])\n",
    "print(transform(a))"
   ]
  },
  {
   "cell_type": "code",
   "execution_count": 4,
   "metadata": {},
   "outputs": [],
   "source": [
    "def encode():\n",
    "    \n",
    "    h = 320\n",
    "    w = 360\n",
    "    \n",
    "    #host_name = input(\"Enter the name of the host image: \")\n",
    "    host_name = \"my_photo.png\"\n",
    "    host = cv2.resize(cv2.imread(host_name),(w,h))/255.0\n",
    "    \n",
    "    #hiding_name = input(\"Enter the name of the hiding image: \")\n",
    "    hiding_name = \"photo1.jpg\"\n",
    "    hiding = cv2.resize(cv2.imread(hiding_name),(w,h))/255.0\n",
    "    \n",
    "    hidden= np.zeros((h,w,3))\n",
    "    alpha= 1e-3\n",
    "    \n",
    "    for row in range(0,h,2):\n",
    "        for column in range(0,w,2):\n",
    "            for c in range(3):\n",
    "                \n",
    "                layer = host[row:row+2,column:column+2,c]\n",
    "                layer = transform(layer)\n",
    "                \n",
    "                layer_h = hiding[row:row+2,column:column+2,c]\n",
    "                \n",
    "                temp = layer + (alpha*layer_h)\n",
    "                hidden[row:row+2,column:column+2,c] = transform(temp)\n",
    "                \n",
    "    encoded_name = input(\"enter the name of the encoded image: \")\n",
    "    status = cv2.imwrite(encoded_name,hidden*255.0)\n",
    "    if status>0:\n",
    "        print(\"Image saved succesfully with the name \",encoded_name)\n",
    "    else:\n",
    "        print(\"Failed to save\")\n",
    "     \n",
    "    pyplot.imsave(\"onePic.png\",hidden)\n",
    "        \n",
    "    decoded = np.zeros_like(host)\n",
    "    decoded = ((hidden - host)/alpha)"
   ]
  },
  {
   "cell_type": "code",
   "execution_count": 5,
   "metadata": {},
   "outputs": [],
   "source": [
    "def decode():\n",
    "    \n",
    "    h = 320\n",
    "    w = 360\n",
    "    alpha = 1e-3\n",
    "    \n",
    "    #host_name = input(\"Enter the name of the host image: \")\n",
    "    host_name = \"my_photo.png\"\n",
    "    host = cv2.resize(cv2.imread(host_name),(w,h))/255.0\n",
    "    \n",
    "    #encoded_name = input(\"Enter the name of the encoded image: \")\n",
    "    encoded_name = \"try1.png\"\n",
    "    encoded = cv2.resize(cv2.imread(encoded_name),(w,h))/255.0\n",
    "    \n",
    "    decoded = np.zeros_like(encoded)\n",
    "    decoded = encoded - host\n",
    "    print(np.sum(encoded),\"\\n\",np.sum(host),\"\\n\",np.sum(host-encoded))\n",
    "    print(decoded)\n",
    "    decoded = decoded/alpha\n",
    "    \n",
    "    for row in range(0,h,2):\n",
    "        for column in range(0,w,2):\n",
    "            for c in range(3):\n",
    "                \n",
    "                layer = decoded[row:row+2, column:column+2,c]\n",
    "                temp = transform(layer)\n",
    "                decoded[row:row+2, column:column+2,c] = temp\n",
    "                \n",
    "    decoded_name = input(\"Enter a anme for decoded image: \")\n",
    "    status = cv2.imwrite(decoded_name,decoded*255.0)\n",
    "    if status>=1:\n",
    "        print(\"Decoded image saved succesfully\")\n",
    "    else:\n",
    "        print(\"Failed to save the image\")"
   ]
  },
  {
   "cell_type": "code",
   "execution_count": 6,
   "metadata": {},
   "outputs": [
    {
     "name": "stdout",
     "output_type": "stream",
     "text": [
      "What do you wish to do:\n",
      "    1. Encode an image\n",
      "    2. Decode an image\n",
      "Enter your choice: 0\n",
      "Please enter valid option\n"
     ]
    }
   ],
   "source": [
    "print(\"What do you wish to do:\")\n",
    "print(\"    1. Encode an image\")\n",
    "print(\"    2. Decode an image\")\n",
    "choice = input(\"Enter your choice: \")\n",
    "\n",
    "if (choice == '1'):\n",
    "    encode()\n",
    " \n",
    "elif (choice=='2'):\n",
    "    decode()\n",
    "\n",
    "else:\n",
    "    print(\"Please enter valid option\")"
   ]
  },
  {
   "cell_type": "code",
   "execution_count": null,
   "metadata": {},
   "outputs": [],
   "source": []
  }
 ],
 "metadata": {
  "kernelspec": {
   "display_name": "Python 3",
   "language": "python",
   "name": "python3"
  },
  "language_info": {
   "codemirror_mode": {
    "name": "ipython",
    "version": 3
   },
   "file_extension": ".py",
   "mimetype": "text/x-python",
   "name": "python",
   "nbconvert_exporter": "python",
   "pygments_lexer": "ipython3",
   "version": "3.8.3"
  }
 },
 "nbformat": 4,
 "nbformat_minor": 4
}
