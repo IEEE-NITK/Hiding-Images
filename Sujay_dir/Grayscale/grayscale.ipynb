{
 "cells": [
  {
   "cell_type": "code",
   "execution_count": 21,
   "metadata": {},
   "outputs": [],
   "source": [
    "#Importing libraries\n",
    "import cv2 as cv\n",
    "import sys\n",
    "import numpy as np\n",
    "from PIL import Image"
   ]
  },
  {
   "cell_type": "code",
   "execution_count": 22,
   "metadata": {},
   "outputs": [],
   "source": [
    "def encodingincrement(bit, value):\n",
    "    bit = int(bit)\n",
    "    return bit - value%2"
   ]
  },
  {
   "cell_type": "code",
   "execution_count": 23,
   "metadata": {},
   "outputs": [],
   "source": [
    "def encodegrayscale(baseimage, targetimage):\n",
    "    \"\"\"Function to encrypt a target image inside a base image using lsb method\"\"\"\n",
    "    #Obtaining the dimensions of the base image and the target image\n",
    "    baseimageheight, baseimagewidth = baseimage.shape\n",
    "    targetimageheight, targetimagewidth = targetimage.shape\n",
    "    \n",
    "    #Initialising the variable for number of bits per pixel\n",
    "    bitsperpixel = targetimage.itemsize * 8\n",
    "    \n",
    "    #Checking if encoding is possible\n",
    "    if targetimage.size * bitsperpixel > baseimage.size:\n",
    "        return None\n",
    "    \n",
    "    #Creating 1-D array of the target image and base image to make the manipulations easy\n",
    "    flattenedtargetimage = targetimage.flatten()\n",
    "    flattenedbaseimage = baseimage.flatten()\n",
    "    \n",
    "    #Creating string of bits representing the image to be encoded\n",
    "    targetstream = \"\"\n",
    "    for pixelvalue in flattenedtargetimage:\n",
    "        targetstream = targetstream + '{0:08b}'.format(pixelvalue)\n",
    "    \n",
    "    #Encoding the string of bits in the 1-D array of base image\n",
    "    for i in range(len(targetstream)):\n",
    "        flattenedbaseimage[i] += encodingincrement(targetstream[i], flattenedbaseimage[i])\n",
    "    \n",
    "    #Reshaping the 1-D array of base image to appropriate dimensions\n",
    "    encodedimage = flattenedbaseimage.reshape(baseimageheight, baseimagewidth)\n",
    "    \n",
    "    return encodedimage\n",
    "    "
   ]
  },
  {
   "cell_type": "code",
   "execution_count": 24,
   "metadata": {},
   "outputs": [],
   "source": [
    "def decodegrayscale(encodedimage, targetimageshape):\n",
    "    \"\"\"Function to decode the target image from the encoded image\"\"\"\n",
    "    #list of powers of two to convert binary number to int\n",
    "    bintointconvertor = np.array([2 ** x for x in range(7,-1,-1)])\n",
    "    \n",
    "    #List to store the decoded image pixel values\n",
    "    flatdecodedimage = []\n",
    "    \n",
    "    #Number of bits per pixel\n",
    "    bitsperpixel = 8\n",
    "    \n",
    "    #Variable to store single recovered pixel of target image from the encoded image. Initialised to all bits zero\n",
    "    binarynum = [0] * bitsperpixel\n",
    "    \n",
    "    #1-D array storing the encoded image\n",
    "    flatencodedimage = encodedimage.flatten()\n",
    "    \n",
    "    #Variable to store the size of target image\n",
    "    targetimagesize = targetimageshape[0] * targetimageshape[1]\n",
    "    \n",
    "    #Loop iterates for total number of bits to be recovered times\n",
    "    for i in range(targetimagesize * bitsperpixel + 1):\n",
    "        #If next set of bitsperpixel number of bits reached\n",
    "        if (i != 0 and i % bitsperpixel == 0):\n",
    "            #Append the elementwise multiplication of binary digits and powers of two\n",
    "            flatdecodedimage.append(sum(np.array(binarynum) * bintointconvertor))\n",
    "            \n",
    "        #Recovering the last bit from every pixel of encoded image\n",
    "        binarynum[i%bitsperpixel] = flatencodedimage[i]%2\n",
    "        \n",
    "    #Shaping the 1-D image array to appropriate dimensions    \n",
    "    decodedimage = (np.array(flatdecodedimage)).reshape(targetimageshape)\n",
    "    \n",
    "    return decodedimage"
   ]
  },
  {
   "cell_type": "code",
   "execution_count": 25,
   "metadata": {},
   "outputs": [
    {
     "name": "stdout",
     "output_type": "stream",
     "text": [
      "Enter the path of the image to be encodedstarry_night.jpg\n",
      "Enter the path of the base imagesunset.jpg\n"
     ]
    }
   ],
   "source": [
    "#Reading the images \n",
    "targetimagename = input('Enter the path of the image to be encoded')\n",
    "baseimagename = input('Enter the path of the base image')\n",
    "\n",
    "#Creating the image objects\n",
    "targetimage = cv.imread(targetimagename, 0)\n",
    "#If the image could not be loaded\n",
    "if targetimage is None:\n",
    "    print(\"Error loading image\")\n",
    "    \n",
    "baseimage = cv.imread(baseimagename, 0)\n",
    "#If the image could not be loaded\n",
    "if baseimage is None:\n",
    "    print(\"Error loading image\")\n",
    "\n",
    "#Callling the encoding function\n",
    "encodedimage = encodegrayscale(baseimage, targetimage)\n",
    "\n",
    "#Checking if the encoding was successful\n",
    "if encodedimage is None:\n",
    "    sys.exit(\"Image to be encoded is too large for the base image\")\n",
    "    \n",
    "#Using the fromarray function from the PIL library to convert the decodedimage to grayscale image\n",
    "#np.uint8 converts all value to the range [0,255]\n",
    "decodedimage = Image.fromarray(np.uint8(decodegrayscale(encodedimage, targetimage.shape)), 'L')\n",
    "\n",
    "#Saving and then reading the decoded image\n",
    "decodedimage.save('Decodedimage.png')\n",
    "img = cv.imread('Decodedimage.png', 0)\n",
    "\n",
    "\n",
    "#Displaying all 4 images in seperate windows\n",
    "cv.imshow('Base image', baseimage)\n",
    "cv.imshow('Target image', targetimage)\n",
    "cv.imshow('Encoded image', encodedimage)\n",
    "cv.imshow('Decoded image', img)\n",
    "\n",
    "#Wait till any key is pressed\n",
    "cv.waitKey(0)\n",
    "\n",
    "#Close all windows once any key is pressed\n",
    "cv.destroyAllWindows()"
   ]
  },
  {
   "cell_type": "code",
   "execution_count": null,
   "metadata": {},
   "outputs": [],
   "source": []
  },
  {
   "cell_type": "code",
   "execution_count": null,
   "metadata": {},
   "outputs": [],
   "source": []
  },
  {
   "cell_type": "code",
   "execution_count": null,
   "metadata": {},
   "outputs": [],
   "source": []
  }
 ],
 "metadata": {
  "kernelspec": {
   "display_name": "Python 3",
   "language": "python",
   "name": "python3"
  },
  "language_info": {
   "codemirror_mode": {
    "name": "ipython",
    "version": 3
   },
   "file_extension": ".py",
   "mimetype": "text/x-python",
   "name": "python",
   "nbconvert_exporter": "python",
   "pygments_lexer": "ipython3",
   "version": "3.7.4"
  }
 },
 "nbformat": 4,
 "nbformat_minor": 2
}
