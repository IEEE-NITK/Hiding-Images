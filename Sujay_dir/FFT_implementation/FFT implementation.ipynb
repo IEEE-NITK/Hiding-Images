{
 "cells": [
  {
   "cell_type": "code",
   "execution_count": 26,
   "metadata": {},
   "outputs": [],
   "source": [
    "import numpy as np\n",
    "import cv2 as cv"
   ]
  },
  {
   "cell_type": "markdown",
   "metadata": {},
   "source": [
    "FUNCTION TO CALCULATE DFT OF 2x2 matrix"
   ]
  },
  {
   "cell_type": "code",
   "execution_count": 27,
   "metadata": {},
   "outputs": [],
   "source": [
    "#2x2 array is called mask\n",
    "def dft_array(mask):\n",
    "    \"\"\" Function to calculate dft of 2x2 matrix\"\"\"\n",
    "    transform = np.zeros((2, 2, 3), dtype = 'float64')\n",
    "    transform[0,0] = mask[0,0]/2 + mask[0,1]/2 + mask[1,0]/2 + mask[1,1]/2\n",
    "    transform[0,1] = mask[0,0]/2 - mask[0,1]/2 + mask[1,0]/2 - mask[1,1]/2\n",
    "    transform[1,0] = mask[0,0]/2 + mask[0,1]/2 - mask[1,0]/2 - mask[1,1]/2\n",
    "    transform[1,1] = mask[0,0]/2 - mask[0,1]/2 - mask[1,0]/2 + mask[1,1]/2\n",
    "    return transform"
   ]
  },
  {
   "cell_type": "markdown",
   "metadata": {},
   "source": [
    "FUNCTION TO CALCULATE DFT OF IMAGE"
   ]
  },
  {
   "cell_type": "code",
   "execution_count": 28,
   "metadata": {},
   "outputs": [],
   "source": [
    "def dft_image(image):\n",
    "    \"\"\" Function to find the discrete fourier transform of an image by taking 2x2 array at a time\"\"\" \n",
    "    height = image.shape[0]\n",
    "    width = image.shape[1]\n",
    "    transformed_image = np.zeros((height, width, 3), dtype = 'float64')\n",
    "    for i in range(0, height - 1, 2):\n",
    "        for j in range(0, width - 1, 2):\n",
    "            xcoordinates = np.array([(i, i),\n",
    "                                     (i + 1, i + 1)])\n",
    "            ycoordinates = np.array([(j, j + 1),\n",
    "                                    (j, j + 1)])\n",
    "            coordinates = (xcoordinates, ycoordinates)\n",
    "            mask = image[coordinates]\n",
    "            transformed_image[coordinates] = dft_array(mask)\n",
    "    return transformed_image"
   ]
  },
  {
   "cell_type": "markdown",
   "metadata": {},
   "source": [
    "FUNCTION TO HIDE MESSAGE IMAGE IN HOST IMAGE"
   ]
  },
  {
   "cell_type": "code",
   "execution_count": 29,
   "metadata": {},
   "outputs": [],
   "source": [
    "def encode_image(host_image, message_image):\n",
    "    \"\"\"Function which encodes message image in the frequency domain representation of host image\"\"\"\n",
    "    message_pixelarray = message_image.reshape(-1,3)\n",
    "    height_host = host_image.shape[0]\n",
    "    width_host = host_image.shape[1]\n",
    "    host_pixelarray = host_image.reshape(-1,3)\n",
    "    for i in range(message_pixelarray.shape[0]):\n",
    "        host_pixelarray[i] += message_pixelarray[i]/10 \n",
    "    newimage = host_pixelarray.reshape(height_host, width_host, 3)\n",
    "    return newimage"
   ]
  },
  {
   "cell_type": "markdown",
   "metadata": {},
   "source": [
    "FUNCTION TO DECODE MESSAGE IMAGE FROM HOST IMAGE"
   ]
  },
  {
   "cell_type": "code",
   "execution_count": 42,
   "metadata": {},
   "outputs": [],
   "source": [
    "def decode_image(encoded_image, host_image, shape):\n",
    "    \"\"\" Function which recovers message image from encoded image\"\"\"\n",
    "    size = shape[0] * shape[1]\n",
    "    message_image = cv.subtract(dft_image(encoded_image), dft_image(host_image))\n",
    "    message_image = message_image.reshape(-1,3)\n",
    "    message_image = message_image[range(size), :]\n",
    "    message_image = message_image * 10\n",
    "    message_image = message_image.reshape(shape[0], shape[1], 3)\n",
    "    return message_image"
   ]
  },
  {
   "cell_type": "code",
   "execution_count": 43,
   "metadata": {},
   "outputs": [],
   "source": [
    "def main():\n",
    "    hostimage = input('Enter name of host image :')\n",
    "    messageimage = input('Enter name of message image :')\n",
    "    hostimage = cv.imread('sunset.jpg')\n",
    "    hostimage = np.array(hostimage/255)\n",
    "    messageimage = cv.imread('starry_night.jpg')\n",
    "    messageimage = np.array(messageimage/255)\n",
    "    cv.imshow('Host image', hostimage)\n",
    "    cv.imshow('message image', messageimage)\n",
    "    dft_of_host_image = dft_image(hostimage)\n",
    "    encoded_frequency_domain_image = encode_image(dft_of_host_image, messageimage)\n",
    "    encoded_spatial_domain_image = dft_image(encoded_frequency_domain_image)\n",
    "    cv.imshow('encoded image', encoded_spatial_domain_image)\n",
    "    decoded_message_image = decode_image(encoded_spatial_domain_image, hostimage, messageimage.shape)\n",
    "    cv.imshow('decoded image', decoded_message_image)\n",
    "    cv.waitKey(0)\n",
    "    cv.destroyAllWindows()"
   ]
  },
  {
   "cell_type": "code",
   "execution_count": 44,
   "metadata": {},
   "outputs": [
    {
     "name": "stdout",
     "output_type": "stream",
     "text": [
      "Enter name of host image :sunset.jpg\n",
      "Enter name of message image :starry_night.jpg\n"
     ]
    }
   ],
   "source": [
    "main()"
   ]
  },
  {
   "cell_type": "code",
   "execution_count": null,
   "metadata": {},
   "outputs": [],
   "source": []
  }
 ],
 "metadata": {
  "kernelspec": {
   "display_name": "Python 3",
   "language": "python",
   "name": "python3"
  },
  "language_info": {
   "codemirror_mode": {
    "name": "ipython",
    "version": 3
   },
   "file_extension": ".py",
   "mimetype": "text/x-python",
   "name": "python",
   "nbconvert_exporter": "python",
   "pygments_lexer": "ipython3",
   "version": "3.7.4"
  }
 },
 "nbformat": 4,
 "nbformat_minor": 2
}
